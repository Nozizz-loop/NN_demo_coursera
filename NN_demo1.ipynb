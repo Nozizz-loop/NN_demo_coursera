{
 "cells": [
  {
   "cell_type": "code",
   "execution_count": 1,
   "metadata": {},
   "outputs": [],
   "source": [
    "import numpy as np\n",
    "import matplotlib.pyplot as plt\n",
    "import h5py\n",
    "import scipy\n",
    "from PIL import Image\n",
    "from scipy import ndimage\n",
    "from lr_utils import load_dataset\n",
    "\n",
    "%matplotlib inline"
   ]
  },
  {
   "cell_type": "code",
   "execution_count": 2,
   "metadata": {},
   "outputs": [],
   "source": [
    "train_set_x_orig, train_set_y, test_set_x_orig, test_set_y, classes = load_dataset()"
   ]
  },
  {
   "cell_type": "code",
   "execution_count": 3,
   "metadata": {},
   "outputs": [
    {
     "name": "stdout",
     "output_type": "stream",
     "text": [
      "y = [0], it's a non-cat' picture.\n"
     ]
    },
    {
     "data": {
      "image/png": "[encoded data removed]",
      "text/plain": [
       "<Figure size 432x288 with 1 Axes>"
      ]
     },
     "metadata": {
      "needs_background": "light"
     },
     "output_type": "display_data"
    }
   ],
   "source": [
    "index = 23\n",
    "plt.imshow(train_set_x_orig[index])\n",
    "print('y = ' + str(train_set_y[:, index]) + \", it's a \" + classes[np.squeeze(train_set_y[:, index])].decode(\"utf-8\") + \"' picture.\")"
   ]
  },
  {
   "cell_type": "code",
   "execution_count": 4,
   "metadata": {},
   "outputs": [
    {
     "data": {
      "text/plain": [
       "(209, 64, 64, 3)"
      ]
     },
     "execution_count": 4,
     "metadata": {},
     "output_type": "execute_result"
    }
   ],
   "source": [
    "train_set_x_orig.shape"
   ]
  },
  {
   "cell_type": "code",
   "execution_count": 5,
   "metadata": {},
   "outputs": [
    {
     "data": {
      "text/plain": [
       "(1, 209)"
      ]
     },
     "execution_count": 5,
     "metadata": {},
     "output_type": "execute_result"
    }
   ],
   "source": [
    "train_set_y.shape"
   ]
  },
  {
   "cell_type": "code",
   "execution_count": 6,
   "metadata": {},
   "outputs": [],
   "source": [
    "m_train = train_set_x_orig.shape[0]\n",
    "m_test = test_set_x_orig.shape[0]\n",
    "num_px = train_set_x_orig.shape[1]"
   ]
  },
  {
   "cell_type": "code",
   "execution_count": 7,
   "metadata": {},
   "outputs": [
    {
     "name": "stdout",
     "output_type": "stream",
     "text": [
      "Number of training examples: m_train = 209\n",
      "Number of test examples: m_test = 50\n",
      "Each image is of size: (64, 64, 3)\n",
      "Height, Width of each image: 64\n",
      "train_set_x_orig.shape: (209, 64, 64, 3)\n",
      "train_set_y.shape: (1, 209)\n",
      "test_set_x_orig.shape: (50, 64, 64, 3)\n",
      "test_set_y.shape: (1, 50)\n"
     ]
    }
   ],
   "source": [
    "print(\"Number of training examples: m_train = \" + str(m_train))\n",
    "print(\"Number of test examples: m_test = \" + str(m_test))\n",
    "print(\"Each image is of size: (\" + str(num_px) + \", \" + str(num_px) + \", 3)\")\n",
    "print(\"Height, Width of each image: \" + str(num_px))\n",
    "print(\"train_set_x_orig.shape: \" + str(train_set_x_orig.shape))\n",
    "print(\"train_set_y.shape: \" + str(train_set_y.shape))\n",
    "print(\"test_set_x_orig.shape: \" + str(test_set_x_orig.shape))\n",
    "print(\"test_set_y.shape: \" + str(test_set_y.shape))"
   ]
  },
  {
   "cell_type": "code",
   "execution_count": 8,
   "metadata": {},
   "outputs": [
    {
     "name": "stdout",
     "output_type": "stream",
     "text": [
      "train_set_x_flatten.shape: (12288, 209)\n",
      "train_set_y.shape: (1, 209)\n",
      "test_set_x_flatten.shape: (12288, 50)\n",
      "test_set_y.shape: (1, 50)\n"
     ]
    }
   ],
   "source": [
    "train_set_x_flatten = train_set_x_orig.reshape(train_set_x_orig.shape[0],-1).T\n",
    "test_set_x_flatten = test_set_x_orig.reshape(test_set_x_orig.shape[0],-1).T\n",
    "\n",
    "print(\"train_set_x_flatten.shape: \" + str(train_set_x_flatten.shape))\n",
    "print(\"train_set_y.shape: \" + str(train_set_y.shape))\n",
    "print(\"test_set_x_flatten.shape: \" + str(test_set_x_flatten.shape))\n",
    "print(\"test_set_y.shape: \" + str(test_set_y.shape))"
   ]
  },
  {
   "cell_type": "code",
   "execution_count": 9,
   "metadata": {},
   "outputs": [],
   "source": [
    "train_set_x = train_set_x_flatten / 255\n",
    "test_set_x = test_set_x_flatten / 255"
   ]
  },
  {
   "cell_type": "code",
   "execution_count": 10,
   "metadata": {},
   "outputs": [],
   "source": [
    "def sigmoid(z):\n",
    "    \"\"\"\n",
    "    A activation function.\n",
    "    parameters:\n",
    "        z - a linear outcome\n",
    "    return:\n",
    "        s - a activation outcome\n",
    "    \"\"\"\n",
    "    \n",
    "    s = 1 / (1 + np.exp(-z))\n",
    "    \n",
    "    return s"
   ]
  },
  {
   "cell_type": "code",
   "execution_count": 11,
   "metadata": {},
   "outputs": [],
   "source": [
    "def initialize_with_zeros(dim):\n",
    "    \"\"\"\n",
    "    initializing the parameters W and b.\n",
    "    parameters:\n",
    "        dim - a int, the number of features\n",
    "    return:\n",
    "        w - a weight matrix. shape = (dim,1)\n",
    "        b - a bias \n",
    "    \"\"\"\n",
    "    \n",
    "    w = np.zeros(shape = (dim,1))\n",
    "    b = 0\n",
    "    \n",
    "    assert(w.shape==(dim,1))\n",
    "    assert(isinstance(b, float) or isinstance(b, int))\n",
    "    \n",
    "    return (w,b)"
   ]
  },
  {
   "cell_type": "code",
   "execution_count": 12,
   "metadata": {},
   "outputs": [],
   "source": [
    "def propagate(w, b, X, Y):\n",
    "    \"\"\"\n",
    "    Implementing the forward and backward propagation\n",
    "    parameters:\n",
    "        w - weight matrix, shape = (dim,1)\n",
    "        b - bias\n",
    "        x - train_set_x matrix, shape = (dim, samples)\n",
    "        y - train_set_y matrix, shape = (1, samples)\n",
    "    return:\n",
    "        cost - the LR cost\n",
    "        dw - the gradient of w, dw.shape == w.shape\n",
    "        db - the gradient of b, db.shape == b.shape\n",
    "    \"\"\"\n",
    "    \n",
    "    m = X.shape[1]\n",
    "    \n",
    "    z = np.dot(w.T, X) + b\n",
    "    A = sigmoid(z)\n",
    "    \n",
    "    cost = (-1 / m) * np.sum(Y * np.log(A) + (1 - Y) * (np.log(1 - A)))\n",
    "    \n",
    "    dw = (1 / m) * np.dot(X, (A - Y).T)\n",
    "    db = (1 / m) * np.sum(A - Y)\n",
    "    \n",
    "    cost = np.squeeze(cost)\n",
    "    \n",
    "    grads = {\n",
    "             \"dw\":dw,\n",
    "             \"db\":db\n",
    "            }\n",
    "    return (grads, cost)"
   ]
  },
  {
   "cell_type": "code",
   "execution_count": 14,
   "metadata": {},
   "outputs": [
    {
     "name": "stdout",
     "output_type": "stream",
     "text": [
      "dw = [[0.99993216]\n",
      " [1.99980262]]\n",
      "db = 0.49993523062470574\n",
      "cost = 6.000064773192205\n"
     ]
    }
   ],
   "source": [
    "w, b, X, Y = np.array([[1],[2]]), 2, np.array([[1,2], [3,4]]), np.array([[1,0]])\n",
    "grads, cost = propagate(w, b, X, Y)\n",
    "print(\"dw = \" + str(grads[\"dw\"]))\n",
    "print(\"db = \" + str(grads[\"db\"]))\n",
    "print(\"cost = \" + str(cost))"
   ]
  },
  {
   "cell_type": "code",
   "execution_count": 15,
   "metadata": {},
   "outputs": [],
   "source": [
    "def optimize(w, b, X, Y, num_iterations, learning_rate, print_cost=False):\n",
    "    \"\"\"\n",
    "    optimizing the w and b with gradient descend\n",
    "    paramters:\n",
    "        ...\n",
    "    return:\n",
    "        params - a dict with w and b\n",
    "        grads - a dict with dw and db\n",
    "        cost - a list with all costs, utilized to plot learning curve.\n",
    "    \"\"\"\n",
    "    \n",
    "    costs = []\n",
    "    \n",
    "    for i in range(num_iterations):\n",
    "        \n",
    "        grads, cost = propagate(w, b, X, Y)\n",
    "        \n",
    "        dw = grads[\"dw\"]\n",
    "        db = grads[\"db\"]\n",
    "        \n",
    "        w = w - learning_rate * dw\n",
    "        b = b - learning_rate * db\n",
    "        \n",
    "        if i % 100 == 0:\n",
    "            costs.append(cost)\n",
    "        \n",
    "        if (print_cost) and (i % 100) == 0:\n",
    "            print(\"the number of iterations: %i, the error: %f\" % (i, cost))\n",
    "        \n",
    "    params = {\"w\":w,\n",
    "              \"b\":b\n",
    "             }\n",
    "    \n",
    "    grads = {\"dw\":dw,\n",
    "             \"db\":db\n",
    "            }\n",
    "    \n",
    "    return (params, grads, costs)\n",
    "        \n",
    "        "
   ]
  },
  {
   "cell_type": "code",
   "execution_count": 16,
   "metadata": {},
   "outputs": [],
   "source": [
    "w, b, X, Y = np.array([[1],[2]]), 2, np.array([[1,2], [3,4]]), np.array([[1,0]])"
   ]
  },
  {
   "cell_type": "code",
   "execution_count": 20,
   "metadata": {},
   "outputs": [
    {
     "name": "stdout",
     "output_type": "stream",
     "text": [
      "w = [[0.1124579 ]\n",
      " [0.23106775]]\n",
      "b = 1.5593049248448891\n",
      "dw = [[0.90158428]\n",
      " [1.76250842]]\n",
      "db = 0.4304620716786828\n"
     ]
    }
   ],
   "source": [
    "params, grads, costs = optimize(w, b, X, Y, 100, 0.009, print_cost=False)\n",
    "print(\"w = \" + str(params[\"w\"]))\n",
    "print(\"b = \" + str(params[\"b\"]))\n",
    "print(\"dw = \" + str(grads[\"dw\"]))\n",
    "print(\"db = \" + str(grads[\"db\"]))"
   ]
  },
  {
   "cell_type": "code",
   "execution_count": 23,
   "metadata": {},
   "outputs": [],
   "source": [
    "def predict(w, b, X):\n",
    "    \n",
    "    m = X.shape[1]\n",
    "    Y_prediction = np.zeros((1, m))\n",
    "    w = w.reshape(X.shape[0],1)\n",
    "    \n",
    "    A = sigmoid(np.dot(w.T, X) + b)\n",
    "    for i in range(A.shape[1]):\n",
    "        Y_prediction[0,i] = 1 if A[0,i] > 0.5 else 0\n",
    "    \n",
    "    return Y_prediction"
   ]
  },
  {
   "cell_type": "code",
   "execution_count": 24,
   "metadata": {},
   "outputs": [
    {
     "name": "stdout",
     "output_type": "stream",
     "text": [
      "predictions = [[1. 1.]]\n"
     ]
    }
   ],
   "source": [
    "w, b, X, Y = np.array([[1],[2]]), 2, np.array([[1,2],[3,4]]), np.array([[1,0]])\n",
    "print(\"predictions = \" + str(predict(w, b, X)))"
   ]
  },
  {
   "cell_type": "code",
   "execution_count": 30,
   "metadata": {},
   "outputs": [],
   "source": [
    "def model(X_train, Y_train, X_test, Y_test, num_iterations=2000, learning_rate=0.5, print_cost=False):\n",
    "    \n",
    "    w, b = initialize_with_zeros(X_train.shape[0])\n",
    "    \n",
    "    params, grads, costs = optimize(w, b, X_train, Y_train, num_iterations, learning_rate, print_cost)\n",
    "    \n",
    "    w, b = params[\"w\"], params[\"b\"]\n",
    "    \n",
    "    Y_prediction_test = predict(w, b, X_test)\n",
    "    Y_prediction_train = predict(w, b, X_train)\n",
    "    \n",
    "    print(\"training set accuracy:\", format(100 - np.mean(np.abs(Y_prediction_train - Y_train)) * 100), \"%\")\n",
    "    print(\"test set accurary:\", format(100 - np.mean(np.abs(Y_prediction_test - Y_test)) * 100), \"%\")\n",
    "    \n",
    "    d = {\"costs\":costs,\n",
    "         \"Y_prediction_test\":Y_prediction_test,\n",
    "         \"Y_prediction_train\":Y_prediction_train,\n",
    "         \"w\":w,\n",
    "         \"b\":b,\n",
    "         \"learning_rate\":learning_rate,\n",
    "         \"num_iterations\":num_iterations\n",
    "        }\n",
    "    \n",
    "    return d"
   ]
  },
  {
   "cell_type": "code",
   "execution_count": 31,
   "metadata": {},
   "outputs": [
    {
     "name": "stdout",
     "output_type": "stream",
     "text": [
      "the number of iterations: 0, the error: 0.693147\n",
      "the number of iterations: 100, the error: 0.584508\n",
      "the number of iterations: 200, the error: 0.466949\n",
      "the number of iterations: 300, the error: 0.376007\n",
      "the number of iterations: 400, the error: 0.331463\n",
      "the number of iterations: 500, the error: 0.303273\n",
      "the number of iterations: 600, the error: 0.279880\n",
      "the number of iterations: 700, the error: 0.260042\n",
      "the number of iterations: 800, the error: 0.242941\n",
      "the number of iterations: 900, the error: 0.228004\n",
      "the number of iterations: 1000, the error: 0.214820\n",
      "the number of iterations: 1100, the error: 0.203078\n",
      "the number of iterations: 1200, the error: 0.192544\n",
      "the number of iterations: 1300, the error: 0.183033\n",
      "the number of iterations: 1400, the error: 0.174399\n",
      "the number of iterations: 1500, the error: 0.166521\n",
      "the number of iterations: 1600, the error: 0.159305\n",
      "the number of iterations: 1700, the error: 0.152667\n",
      "the number of iterations: 1800, the error: 0.146542\n",
      "the number of iterations: 1900, the error: 0.140872\n",
      "training set accuracy: 99.04306220095694 %\n",
      "test set accurary: 70.0 %\n"
     ]
    }
   ],
   "source": [
    "d = model(train_set_x, train_set_y, test_set_x, test_set_y, num_iterations=2000, learning_rate=0.005, print_cost=True)"
   ]
  },
  {
   "cell_type": "code",
   "execution_count": 32,
   "metadata": {},
   "outputs": [
    {
     "data": {
      "image/png": "[encoded data removed]",
      "text/plain": [
       "<Figure size 432x288 with 1 Axes>"
      ]
     },
     "metadata": {
      "needs_background": "light"
     },
     "output_type": "display_data"
    }
   ],
   "source": [
    "costs = np.squeeze(d[\"costs\"])\n",
    "plt.plot(costs)\n",
    "plt.ylabel('cost')\n",
    "plt.xlabel('iterations (per hundreds)')\n",
    "plt.title('Learning rate = ' + str(d['learning_rate']))\n",
    "plt.show()"
   ]
  },
  {
   "cell_type": "code",
   "execution_count": 35,
   "metadata": {},
   "outputs": [
    {
     "name": "stdout",
     "output_type": "stream",
     "text": [
      "learning rate is:0.01\n",
      "training set accuracy: 99.52153110047847 %\n",
      "test set accurary: 70.0 %\n",
      "\n",
      "--------------------\n",
      "\n",
      "learning rate is:0.001\n",
      "training set accuracy: 91.38755980861244 %\n",
      "test set accurary: 68.0 %\n",
      "\n",
      "--------------------\n",
      "\n",
      "learning rate is:0.0001\n",
      "training set accuracy: 71.29186602870814 %\n",
      "test set accurary: 40.0 %\n",
      "\n",
      "--------------------\n",
      "\n"
     ]
    },
    {
     "data": {
      "image/png": "[encoded data removed]",
      "text/plain": [
       "<Figure size 432x288 with 1 Axes>"
      ]
     },
     "metadata": {
      "needs_background": "light"
     },
     "output_type": "display_data"
    }
   ],
   "source": [
    "learning_rates = [0.01, 0.001, 0.0001]\n",
    "models = {}\n",
    "for i in learning_rates:\n",
    "    print(\"learning rate is:\" + str(i))\n",
    "    models[str(i)] = model(train_set_x, train_set_y, test_set_x, test_set_y, num_iterations=2000, learning_rate=i, print_cost=False)\n",
    "    print(\"\\n\" + \"-\"*20 + \"\\n\")\n",
    "\n",
    "for i in learning_rates:\n",
    "    plt.plot(np.squeeze(models[str(i)][\"costs\"]), label= str(models[str(i)][\"learning_rate\"]))\n",
    "    \n",
    "plt.ylabel('cost')\n",
    "plt.xlabel('iterations')\n",
    "legend = plt.legend(loc='upper center', shadow=True)\n",
    "frame = legend.get_frame()\n",
    "frame.set_facecolor('0.90')\n",
    "plt.show()"
   ]
  },
  {
   "cell_type": "code",
   "execution_count": null,
   "metadata": {},
   "outputs": [],
   "source": []
  }
 ],
 "metadata": {
  "kernelspec": {
   "display_name": "Python 3",
   "language": "python",
   "name": "python3"
  },
  "language_info": {
   "codemirror_mode": {
    "name": "ipython",
    "version": 3
   },
   "file_extension": ".py",
   "mimetype": "text/x-python",
   "name": "python",
   "nbconvert_exporter": "python",
   "pygments_lexer": "ipython3",
   "version": "3.8.5"
  }
 },
 "nbformat": 4,
 "nbformat_minor": 4
}
